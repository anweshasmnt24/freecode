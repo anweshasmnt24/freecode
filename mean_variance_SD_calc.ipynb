{
 "cells": [
  {
   "cell_type": "code",
   "execution_count": 8,
   "metadata": {},
   "outputs": [],
   "source": [
    "import numpy as np\n",
    "def calculate(list):\n",
    "    list = np.array(list)\n",
    "    length = len(list)\n",
    "    if length != 9:\n",
    "     raise ValueError('List should have nine numbers.')\n",
    "    \n",
    "    list1 = list.reshape(3,3)\n",
    "    mean_axis1 = np.average(list1, axis=1).tolist()\n",
    "    mean_axis0 = np.average(list1, axis=0).tolist()\n",
    "    mean_axis = np.average(list1).tolist()\n",
    "    mean = [mean_axis0, mean_axis1, mean_axis]\n",
    "\n",
    "    var_axis1 = np.var(list1, axis=1).tolist()\n",
    "    var_axis0 = np.var(list1, axis=0).tolist()\n",
    "    var_axis = np.var(list1).tolist()\n",
    "    variance = [var_axis0, var_axis1, var_axis]\n",
    "\n",
    "    std_axis1 = np.std(list1, axis=1).tolist()\n",
    "    std_axis0 = np.std(list1, axis=0).tolist()\n",
    "    std_axis = np.std(list1).tolist()\n",
    "    standardDeviation = [std_axis0, std_axis1, std_axis]\n",
    "\n",
    "    max_axis1 = np.max(list1, axis=1).tolist()\n",
    "    max_axis0 = np.max(list1, axis=0).tolist()\n",
    "    max_axis = np.max(list1).tolist()\n",
    "    maximum = [max_axis0, max_axis1, max_axis]\n",
    "\n",
    "    min_axis1 = np.min(list1, axis=1).tolist()\n",
    "    min_axis0 = np.min(list1, axis=0).tolist()\n",
    "    min_axis = np.min(list1).tolist()\n",
    "    minimum = [min_axis0, min_axis1, min_axis]\n",
    "\n",
    "    sum_axis1 = np.sum(list1, axis=1).tolist()\n",
    "    sum_axis0 = np.sum(list1, axis=0).tolist()\n",
    "    sum_axis = np.sum(list1).tolist()\n",
    "    summation = [sum_axis0, sum_axis1, sum_axis]\n",
    " \n",
    "    calculations = {'mean': mean, \n",
    "                'variance': variance,\n",
    "                'standard deviation': standardDeviation,\n",
    "                'max': maximum,\n",
    "                'min': minimum,\n",
    "                'sum': summation}\n",
    "    \n",
    "    return calculations\n"
   ]
  }
 ],
 "metadata": {
  "kernelspec": {
   "display_name": "Python 3",
   "language": "python",
   "name": "python3"
  },
  "language_info": {
   "codemirror_mode": {
    "name": "ipython",
    "version": 3
   },
   "file_extension": ".py",
   "mimetype": "text/x-python",
   "name": "python",
   "nbconvert_exporter": "python",
   "pygments_lexer": "ipython3",
   "version": "3.10.1"
  },
  "orig_nbformat": 4
 },
 "nbformat": 4,
 "nbformat_minor": 2
}
